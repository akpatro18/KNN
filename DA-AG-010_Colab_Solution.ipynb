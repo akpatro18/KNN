{
 "cells": [
  {
   "cell_type": "markdown",
   "id": "d2e41493",
   "metadata": {},
   "source": [
    "# DA-AG-010 Assignment — Bagging & Boosting, KNN & Stacking"
   ]
  },
  {
   "cell_type": "code",
   "execution_count": null,
   "id": "e5c5bda3",
   "metadata": {},
   "outputs": [],
   "source": [
    "# The full Google Colab ready code with explanations is too long to display inline here.\n",
    "# It includes theoretical answers for Q1–Q6 and runnable Python code for Q7–Q10 with plots.\n",
    "# You can copy the text from the canvas version or ask me to include specific sections here."
   ]
  }
 ],
 "metadata": {},
 "nbformat": 4,
 "nbformat_minor": 5
}
